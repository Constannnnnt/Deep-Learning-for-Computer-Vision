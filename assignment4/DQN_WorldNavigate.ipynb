{
 "cells": [
  {
   "cell_type": "markdown",
   "metadata": {
    "deletable": true,
    "editable": true
   },
   "source": [
    "# World Navigation with DQN\n",
    "\n",
    "In this exercise you will play a world navigation game with Deep Q-Networks. The agent learn to solve a navigation task in a basic grid world. It will be built upon the simple one layer Q-network you created in Exercise 1."
   ]
  },
  {
   "cell_type": "markdown",
   "metadata": {
    "deletable": true,
    "editable": true
   },
   "source": [
    "In order to transform an ordinary Q-Network into a DQN you will be making the following improvements:\n",
    "1. Going from a single-layer network to a multi-layer convolutional network.\n",
    "2. Implementing Experience Replay, which will allow our network to train itself using stored memories from it's experience.\n",
    "3. Utilizing a second \"target\" network, which we will use to compute target Q-values during our updates."
   ]
  },
  {
   "cell_type": "markdown",
   "metadata": {
    "deletable": true,
    "editable": true
   },
   "source": [
    "You will also implement two simple additional improvements to the DQN architecture, Double DQN and Dueling DQN, that allow for improved performance, stability, and faster training time. In the end you will have a network that can tackle a number of challenging Atari games, and we will demonstrate how to train the DQN to learn a basic navigation task."
   ]
  },
  {
   "cell_type": "code",
   "execution_count": 2,
   "metadata": {
    "collapsed": true,
    "deletable": true,
    "editable": true
   },
   "outputs": [],
   "source": [
    "from __future__ import division\n",
    "\n",
    "import gym\n",
    "import numpy as np\n",
    "import random\n",
    "import tensorflow as tf\n",
    "import tensorflow.contrib.slim as slim\n",
    "import matplotlib.pyplot as plt\n",
    "import scipy.misc\n",
    "import os\n",
    "%matplotlib inline"
   ]
  },
  {
   "cell_type": "markdown",
   "metadata": {
    "deletable": true,
    "editable": true
   },
   "source": [
    "### Load the game environment"
   ]
  },
  {
   "cell_type": "code",
   "execution_count": 3,
   "metadata": {
    "collapsed": false,
    "deletable": true,
    "editable": true,
    "scrolled": false
   },
   "outputs": [
    {
     "data": {
      "image/png": "[encoded data removed]",
      "text/plain": [
       "<matplotlib.figure.Figure at 0x11e6cd828>"
      ]
     },
     "metadata": {},
     "output_type": "display_data"
    }
   ],
   "source": [
    "from gridworld import gameEnv\n",
    "\n",
    "env = gameEnv(partial=False,size=5)"
   ]
  },
  {
   "cell_type": "markdown",
   "metadata": {
    "deletable": true,
    "editable": true
   },
   "source": [
    "Above is an example of a starting environment in our simple game. The game environment outputs 84x84x3 color images, and uses function calls as similar to the OpenAI gym as possible. The agent controls the blue square, and can move up, down, left, or right. The goal is to move to the green square (for +1 reward) and avoid the red square (for -1 reward). \n",
    "\n",
    "At the start of each episode all squares are randomly placed within a 5x5 grid-world. The agent has 50 steps to achieve as large a reward as possible. Because they are randomly positioned, the agent needs to do more than simply learn a fixed path, as was the case in the FrozenLake environment from Exercise 1. Instead the agent must learn a notion of spatial relationships between the blocks. \n",
    "\n",
    "*Feel free to adjust the size of the gridworld (default 5). Making it smaller provides an easier task for our DQN agent, while making the world larger increases the challenge.*"
   ]
  },
  {
   "cell_type": "markdown",
   "metadata": {
    "deletable": true,
    "editable": true
   },
   "source": [
    "### Addition 1: Convolutional Layers"
   ]
  },
  {
   "cell_type": "markdown",
   "metadata": {
    "deletable": true,
    "editable": true
   },
   "source": [
    "The first major addition to make DQNs work is to use convolutional layers to set up the networks. We are now familiar with convolutional layers after assignment `1-3`. For more information, see the [Tensorflow documentation](https://www.tensorflow.org/api_docs/)."
   ]
  },
  {
   "cell_type": "markdown",
   "metadata": {
    "deletable": true,
    "editable": true
   },
   "source": [
    "### Addition 2: Experience Replay"
   ]
  },
  {
   "cell_type": "markdown",
   "metadata": {
    "deletable": true,
    "editable": true
   },
   "source": [
    "The second major addition to make DQNs work is Experience Replay. The basic idea is that by storing an agent’s experiences, and then randomly drawing batches of them to train the network, we can more robustly learn to perform well in the task. By keeping the experiences we draw random, we prevent the network from only learning about what it is immediately doing in the environment, and allow it to learn from a more varied array of past experiences. \n",
    "\n",
    "Each of these experiences are stored as a tuple of *(state,action,reward,next state)*. The Experience Replay buffer stores a fixed number of recent memories, and as new ones come in, old ones are removed. When the time comes to train, we simply draw a uniform batch of random memories from the buffer, and train our network with them. \n",
    "\n",
    "For our DQN, we build a simple class that allows us to store experies and sample them randomly to train the network:"
   ]
  },
  {
   "cell_type": "code",
   "execution_count": 4,
   "metadata": {
    "collapsed": true,
    "deletable": true,
    "editable": true
   },
   "outputs": [],
   "source": [
    "class experience_buffer():\n",
    "    def __init__(self, buffer_size = 50000):\n",
    "        self.buffer = []\n",
    "        self.buffer_size = buffer_size\n",
    "    \n",
    "    def add(self,experience):\n",
    "        if len(self.buffer) + len(experience) >= self.buffer_size:\n",
    "            self.buffer[0:(len(experience)+len(self.buffer))-self.buffer_size] = []\n",
    "        self.buffer.extend(experience)\n",
    "            \n",
    "    def sample(self,size):\n",
    "        return np.reshape(np.array(random.sample(self.buffer,size)),[size,5])"
   ]
  },
  {
   "cell_type": "markdown",
   "metadata": {
    "deletable": true,
    "editable": true
   },
   "source": [
    "This is a simple function to resize our game frames:"
   ]
  },
  {
   "cell_type": "code",
   "execution_count": 5,
   "metadata": {
    "collapsed": true,
    "deletable": true,
    "editable": true
   },
   "outputs": [],
   "source": [
    "def processState(states):\n",
    "    return np.reshape(states,[21168]) # 84 x 84 x 3"
   ]
  },
  {
   "cell_type": "markdown",
   "metadata": {
    "deletable": true,
    "editable": true
   },
   "source": [
    "### Addition 3: Separate Target Network"
   ]
  },
  {
   "cell_type": "markdown",
   "metadata": {
    "deletable": true,
    "editable": true
   },
   "source": [
    "The third major addition to the DQN that makes it unique is the utilization of a second network during the training procedure. This second network is used to generate the target-Q values that will be used to compute the loss for every action during training. Why not use just use one network for both estimations? The issue is that at every step of training, the Q-network’s values shift, and if we are using a constantly shifting set of values to adjust our network values, then the value estimations can easily spiral out of control. The network can become destabilized by falling into feedback loops between the target and estimated Q-values. In order to mitigate that risk, the target network’s weights are fixed, and only periodically or slowly updated to the primary Q-networks values. In this way training can proceed in a more stable manner."
   ]
  },
  {
   "cell_type": "markdown",
   "metadata": {
    "deletable": true,
    "editable": true
   },
   "source": [
    "These functions allow us to update the parameters of our target network with those of the primary network."
   ]
  },
  {
   "cell_type": "code",
   "execution_count": 6,
   "metadata": {
    "collapsed": true,
    "deletable": true,
    "editable": true
   },
   "outputs": [],
   "source": [
    "def updateTargetGraph(tfVars,tau):\n",
    "    total_vars = len(tfVars)\n",
    "    op_holder = []\n",
    "    for idx,var in enumerate(tfVars[0:total_vars//2]):\n",
    "        op_holder.append(tfVars[idx+total_vars//2].assign((var.value()*tau) + ((1-tau)*tfVars[idx+total_vars//2].value())))\n",
    "    return op_holder\n",
    "\n",
    "def updateTarget(op_holder,sess):\n",
    "    for op in op_holder:\n",
    "        sess.run(op)"
   ]
  },
  {
   "cell_type": "markdown",
   "metadata": {
    "deletable": true,
    "editable": true
   },
   "source": [
    "With the additions above, we have everything we need to replicate the DQN.  "
   ]
  },
  {
   "cell_type": "markdown",
   "metadata": {
    "deletable": true,
    "editable": true
   },
   "source": [
    "### Dueling DQN"
   ]
  },
  {
   "cell_type": "markdown",
   "metadata": {
    "deletable": true,
    "editable": true
   },
   "source": [
    "In order to explain the reasoning behind the architecture changes that Dueling DQN makes, we need to first explain some a few additional reinforcement learning terms. The Q-values that we have been discussing so far correspond to how good it is to take a certain action given a certain state. This can be written as `Q(s,a)`. This action given state can actually be decomposed into two more fundamental notions of value. The first is the value function `V(s)`, which says simple how good it is to be in any given state. The second is the advantage function `A(a)`, which tells how much better taking a certain action would be compared to the others. We can then think of `Q` as being the combination of `V` and `A`. More formally:"
   ]
  },
  {
   "cell_type": "markdown",
   "metadata": {
    "deletable": true,
    "editable": true
   },
   "source": [
    "$$ Q(s,a) =V(s) + A(a) $$"
   ]
  },
  {
   "cell_type": "markdown",
   "metadata": {
    "deletable": true,
    "editable": true
   },
   "source": [
    "The goal of Dueling DQN is to have a network that separately computes the advantage and value functions, and combines them back into a single Q-function only at the final layer. It may seem somewhat pointless to do this at first glance. Why decompose a function that we will just put back together? The key to realizing the benefit is to appreciate that our reinforcement learning agent may not need to care about both value and advantage at any given time. We can achieve more robust estimates of state value by decoupling it from the necessity of being attached to specific actions."
   ]
  },
  {
   "cell_type": "markdown",
   "metadata": {
    "deletable": true,
    "editable": true
   },
   "source": [
    "### Implementing the network itself"
   ]
  },
  {
   "cell_type": "code",
   "execution_count": 14,
   "metadata": {
    "collapsed": true,
    "deletable": true,
    "editable": true
   },
   "outputs": [],
   "source": [
    "class Qnetwork():\n",
    "    def __init__(self,h_size):\n",
    "        #The network recieves a frame from the game, flattened into an array.\n",
    "        #It then resizes it and processes it through four convolutional layers.\n",
    "        #We use slim.conv2d to set up our network \n",
    "        self.scalarInput =  tf.placeholder(shape=[None,21168],dtype=tf.float32)\n",
    "        self.imageIn = tf.reshape(self.scalarInput,shape=[-1,84,84,3])\n",
    "        self.conv1 = slim.conv2d( \\\n",
    "            inputs=self.imageIn,num_outputs=32,kernel_size=[8,8],stride=[4,4],padding='VALID', biases_initializer=None)\n",
    "        self.conv2 = slim.conv2d( \\\n",
    "            inputs=self.conv1,num_outputs=64,kernel_size=[4,4],stride=[2,2],padding='VALID', biases_initializer=None)\n",
    "        self.conv3 = slim.conv2d( \\\n",
    "            inputs=self.conv2,num_outputs=64,kernel_size=[3,3],stride=[1,1],padding='VALID', biases_initializer=None)\n",
    "        self.conv4 = slim.conv2d( \\\n",
    "            inputs=self.conv3,num_outputs=h_size,kernel_size=[7,7],stride=[1,1],padding='VALID', biases_initializer=None)\n",
    "        \n",
    "        ################################################################################\n",
    "        # TODO: Implement Dueling DQN                                                  #\n",
    "        # We take the output from the final convolutional layer i.e. self.conv4 and    #\n",
    "        # split it into separate advantage and value streams.                          #\n",
    "        # Outout: self.Advantage, self.Value                                           #\n",
    "        # Hint: Refer to Fig.1 in [Dueling DQN](https://arxiv.org/pdf/1511.06581.pdf)  #\n",
    "        #       In implementation, use tf.split to split into two branches. You may    #\n",
    "        #       use xavier_initializer for initializing the two additional linear      #\n",
    "        #       layers.                                                                # \n",
    "        ################################################################################\n",
    "        \n",
    "        # split the final convolutional layer\n",
    "        self.Advantage, self.Value = tf.split(self.conv4, 2, 3)\n",
    "        self.Advantage = slim.flatten(self.Advantage)\n",
    "        self.Value = slim.flatten(self.Value)\n",
    "        xavier_init = tf.contrib.layers.xavier_initializer()\n",
    "        self.Advantage_W = tf.Variable(xavier_init([h_size // 2, env.actions]))\n",
    "        self.Value_W = tf.Variable(xavier_init([h_size // 2, 1]))\n",
    "        self.Advantage = tf.matmul(self.Advantage, self.Advantage_W)\n",
    "        self.Value = tf.matmul(self.Value, self.Value_W)\n",
    "        \n",
    "        ################################################################################\n",
    "        #                                 END OF YOUR CODE                             #\n",
    "        ################################################################################\n",
    "        \n",
    "        #Then combine them together to get our final Q-values. \n",
    "        #Please refer to Equation (9) in [Dueling DQN](https://arxiv.org/pdf/1511.06581.pdf)\n",
    "        self.Qout = self.Value + tf.subtract(self.Advantage,tf.reduce_mean(self.Advantage,axis=1,keep_dims=True))\n",
    "        self.predict = tf.argmax(self.Qout,1)\n",
    "        \n",
    "        #Below we obtain the loss by taking the sum of squares difference between the target and prediction Q values.\n",
    "        self.targetQ = tf.placeholder(shape=[None],dtype=tf.float32)\n",
    "        self.actions = tf.placeholder(shape=[None],dtype=tf.int32)\n",
    "        self.actions_onehot = tf.one_hot(self.actions,env.actions,dtype=tf.float32)\n",
    "        \n",
    "        ################################################################################\n",
    "        # TODO:                                                                        #\n",
    "        # Obtain the loss (self.loss) by taking the sum of squares difference          #\n",
    "        # between the target and prediction Q values.                                  #\n",
    "        ################################################################################\n",
    "        self.predict_Q = tf.reduce_sum(tf.multiply(self.Qout, self.actions_onehot), reduction_indices = 1)\n",
    "        self.error = tf.square(self.targetQ - self.predict_Q)\n",
    "        self.loss = tf.reduce_mean(self.error)\n",
    "        ################################################################################\n",
    "        #                                 END OF YOUR CODE                             #\n",
    "        ################################################################################\n",
    "        \n",
    "        self.trainer = tf.train.AdamOptimizer(learning_rate=0.0001)\n",
    "        self.updateModel = self.trainer.minimize(self.loss)"
   ]
  },
  {
   "cell_type": "markdown",
   "metadata": {
    "deletable": true,
    "editable": true
   },
   "source": [
    "### Training the network"
   ]
  },
  {
   "cell_type": "markdown",
   "metadata": {
    "deletable": true,
    "editable": true
   },
   "source": [
    "Setting all the training parameters"
   ]
  },
  {
   "cell_type": "code",
   "execution_count": 15,
   "metadata": {
    "collapsed": true,
    "deletable": true,
    "editable": true
   },
   "outputs": [],
   "source": [
    "batch_size = 32 #How many experiences to use for each training step.\n",
    "update_freq = 4 #How often to perform a training step.\n",
    "y = .99 #Discount factor on the target Q-values\n",
    "startE = 1 #Starting chance of random action\n",
    "endE = 0.1 #Final chance of random action\n",
    "annealing_steps = 10000. #How many steps of training to reduce startE to endE.\n",
    "num_episodes = 5000 #How many episodes of game environment to train network with.\n",
    "pre_train_steps = 10000 #How many steps of random actions before training begins.\n",
    "max_epLength = 50 #The max allowed length of our episode.\n",
    "load_model = False #Whether to load a saved model.\n",
    "path = \"./dqn\" #The path to save our model to.\n",
    "h_size = 512 #The size of the final convolutional layer before splitting it into Advantage and Value streams.\n",
    "tau = 0.001 #Rate to update target network toward primary network"
   ]
  },
  {
   "cell_type": "markdown",
   "metadata": {
    "deletable": true,
    "editable": true
   },
   "source": [
    "### Double DQN"
   ]
  },
  {
   "cell_type": "markdown",
   "metadata": {
    "deletable": true,
    "editable": true
   },
   "source": [
    "The main intuition behind Double DQN is that the regular DQN often overestimates the Q-values of the potential actions to take in a given state. While this would be fine if all actions were always overestimates equally, there was reason to believe this wasn’t the case. You can easily imagine that if certain suboptimal actions regularly were given higher Q-values than optimal actions, the agent would have a hard time ever learning the ideal policy. In order to correct for this, the authors of DDQN paper propose a simple trick: instead of taking the max over Q-values when computing the target-Q value for our training step, we use our primary network to chose an action, and our target network to generate the target Q-value for that action. By decoupling the action choice from the target Q-value generation, we are able to substantially reduce the overestimation, and train faster and more reliably. Below is the new DDQN equation for updating the target value.\n"
   ]
  },
  {
   "cell_type": "markdown",
   "metadata": {
    "deletable": true,
    "editable": true
   },
   "source": [
    "$$ Q \\text{-}target = r + γQ(s',\\arg \\max(Q(s’,a,\\theta),\\theta')) $$"
   ]
  },
  {
   "cell_type": "code",
   "execution_count": 16,
   "metadata": {
    "collapsed": false,
    "deletable": true,
    "editable": true,
    "scrolled": true
   },
   "outputs": [
    {
     "name": "stdout",
     "output_type": "stream",
     "text": [
      "Saved Model\n",
      "Episode 9 reward: 1.7\n",
      "Episode 19 reward: 2.2\n",
      "Episode 29 reward: 5.1\n",
      "Episode 39 reward: 2.9\n",
      "Episode 49 reward: 3.7\n",
      "Episode 59 reward: 2.1\n",
      "Episode 69 reward: 4.2\n",
      "Episode 79 reward: 1.4\n",
      "Episode 89 reward: 1.4\n",
      "Episode 99 reward: 1.9\n",
      "Episode 109 reward: 0.8\n",
      "Episode 119 reward: 1.4\n",
      "Episode 129 reward: 1.8\n",
      "Episode 139 reward: 0.6\n",
      "Episode 149 reward: 1.6\n",
      "Episode 159 reward: 1.6\n",
      "Episode 169 reward: 2.3\n",
      "Episode 179 reward: 1.8\n",
      "Episode 189 reward: 2.7\n",
      "Episode 199 reward: 1.2\n",
      "Episode 209 reward: 1.8\n",
      "Episode 219 reward: 2.3\n",
      "Episode 229 reward: 2.0\n",
      "Episode 239 reward: 3.4\n",
      "Episode 249 reward: 3.0\n",
      "Episode 259 reward: 2.9\n",
      "Episode 269 reward: 1.3\n",
      "Episode 279 reward: 2.7\n",
      "Episode 289 reward: 1.6\n",
      "Episode 299 reward: 2.7\n",
      "Episode 309 reward: 2.7\n",
      "Episode 319 reward: 2.0\n",
      "Episode 329 reward: 1.8\n",
      "Episode 339 reward: 2.0\n",
      "Episode 349 reward: 2.0\n",
      "Episode 359 reward: 2.9\n",
      "Episode 369 reward: 2.1\n",
      "Episode 379 reward: 3.3\n",
      "Episode 389 reward: 3.9\n",
      "Episode 399 reward: 3.2\n",
      "Episode 409 reward: 4.1\n",
      "Episode 419 reward: 3.4\n",
      "Episode 429 reward: 3.8\n",
      "Episode 439 reward: 3.7\n",
      "Episode 449 reward: 1.9\n",
      "Episode 459 reward: 4.0\n",
      "Episode 469 reward: 3.8\n",
      "Episode 479 reward: 4.9\n",
      "Episode 489 reward: 4.4\n",
      "Episode 499 reward: 4.5\n",
      "Episode 509 reward: 4.5\n",
      "Episode 519 reward: 5.1\n",
      "Episode 529 reward: 10.0\n",
      "Episode 539 reward: 4.7\n",
      "Episode 549 reward: 5.8\n",
      "Episode 559 reward: 6.4\n",
      "Episode 569 reward: 6.9\n",
      "Episode 579 reward: 7.5\n",
      "Episode 589 reward: 7.6\n",
      "Episode 599 reward: 8.6\n",
      "Episode 609 reward: 7.1\n",
      "Episode 619 reward: 10.9\n",
      "Episode 629 reward: 9.6\n",
      "Episode 639 reward: 8.8\n",
      "Episode 649 reward: 12.4\n",
      "Episode 659 reward: 10.5\n",
      "Episode 669 reward: 14.1\n",
      "Episode 679 reward: 9.1\n",
      "Episode 689 reward: 9.7\n",
      "Episode 699 reward: 14.1\n",
      "Episode 709 reward: 14.1\n",
      "Episode 719 reward: 13.0\n",
      "Episode 729 reward: 15.0\n",
      "Episode 739 reward: 12.8\n",
      "Episode 749 reward: 14.5\n",
      "Episode 759 reward: 15.4\n",
      "Episode 769 reward: 14.3\n",
      "Episode 779 reward: 13.9\n",
      "Episode 789 reward: 11.5\n",
      "Episode 799 reward: 17.0\n",
      "Episode 809 reward: 12.9\n",
      "Episode 819 reward: 15.4\n",
      "Episode 829 reward: 16.7\n",
      "Episode 839 reward: 16.1\n",
      "Episode 849 reward: 11.9\n",
      "Episode 859 reward: 16.8\n",
      "Episode 869 reward: 15.5\n",
      "Episode 879 reward: 17.5\n",
      "Episode 889 reward: 17.3\n",
      "Episode 899 reward: 19.5\n",
      "Episode 909 reward: 16.9\n",
      "Episode 919 reward: 17.4\n",
      "Episode 929 reward: 19.1\n",
      "Episode 939 reward: 16.9\n",
      "Episode 949 reward: 17.9\n",
      "Episode 959 reward: 18.4\n",
      "Episode 969 reward: 21.3\n",
      "Episode 979 reward: 19.6\n",
      "Episode 989 reward: 21.9\n",
      "Episode 999 reward: 16.6\n",
      "Saved Model\n",
      "Episode 1009 reward: 21.8\n",
      "Episode 1019 reward: 18.2\n",
      "Episode 1029 reward: 22.5\n",
      "Episode 1039 reward: 21.0\n",
      "Episode 1049 reward: 20.4\n",
      "Episode 1059 reward: 22.1\n",
      "Episode 1069 reward: 17.9\n",
      "Episode 1079 reward: 22.3\n",
      "Episode 1089 reward: 20.6\n",
      "Episode 1099 reward: 20.3\n",
      "Episode 1109 reward: 20.4\n",
      "Episode 1119 reward: 20.3\n",
      "Episode 1129 reward: 17.5\n",
      "Episode 1139 reward: 20.9\n",
      "Episode 1149 reward: 19.4\n",
      "Episode 1159 reward: 19.4\n",
      "Episode 1169 reward: 21.0\n",
      "Episode 1179 reward: 21.9\n",
      "Episode 1189 reward: 21.6\n",
      "Episode 1199 reward: 16.5\n",
      "Episode 1209 reward: 20.7\n",
      "Episode 1219 reward: 21.0\n",
      "Episode 1229 reward: 21.7\n",
      "Episode 1239 reward: 21.0\n",
      "Episode 1249 reward: 21.3\n",
      "Episode 1259 reward: 23.3\n",
      "Episode 1269 reward: 23.1\n",
      "Episode 1279 reward: 21.9\n",
      "Episode 1289 reward: 21.9\n",
      "Episode 1299 reward: 20.9\n",
      "Episode 1309 reward: 23.7\n",
      "Episode 1319 reward: 20.3\n",
      "Episode 1329 reward: 22.2\n",
      "Episode 1339 reward: 22.4\n",
      "Episode 1349 reward: 21.4\n",
      "Episode 1359 reward: 19.3\n",
      "Episode 1369 reward: 23.1\n",
      "Episode 1379 reward: 20.1\n",
      "Episode 1389 reward: 20.5\n",
      "Episode 1399 reward: 21.6\n",
      "Episode 1409 reward: 21.4\n",
      "Episode 1419 reward: 22.2\n",
      "Episode 1429 reward: 21.6\n",
      "Episode 1439 reward: 18.1\n",
      "Episode 1449 reward: 21.8\n",
      "Episode 1459 reward: 22.5\n",
      "Episode 1469 reward: 20.9\n",
      "Episode 1479 reward: 22.4\n",
      "Episode 1489 reward: 21.8\n",
      "Episode 1499 reward: 22.5\n",
      "Episode 1509 reward: 23.4\n",
      "Episode 1519 reward: 22.7\n",
      "Episode 1529 reward: 22.9\n",
      "Episode 1539 reward: 24.3\n",
      "Episode 1549 reward: 20.1\n",
      "Episode 1559 reward: 20.9\n",
      "Episode 1569 reward: 19.5\n",
      "Episode 1579 reward: 22.6\n",
      "Episode 1589 reward: 24.0\n",
      "Episode 1599 reward: 21.0\n",
      "Episode 1609 reward: 22.8\n",
      "Episode 1619 reward: 23.8\n",
      "Episode 1629 reward: 22.6\n",
      "Episode 1639 reward: 19.5\n",
      "Episode 1649 reward: 21.4\n",
      "Episode 1659 reward: 21.8\n",
      "Episode 1669 reward: 20.5\n",
      "Episode 1679 reward: 25.4\n",
      "Episode 1689 reward: 22.8\n",
      "Episode 1699 reward: 19.1\n",
      "Episode 1709 reward: 21.8\n",
      "Episode 1719 reward: 21.5\n",
      "Episode 1729 reward: 20.1\n",
      "Episode 1739 reward: 22.3\n",
      "Episode 1749 reward: 25.0\n",
      "Episode 1759 reward: 20.6\n",
      "Episode 1769 reward: 21.0\n",
      "Episode 1779 reward: 19.4\n",
      "Episode 1789 reward: 21.8\n",
      "Episode 1799 reward: 21.3\n",
      "Episode 1809 reward: 22.4\n",
      "Episode 1819 reward: 21.1\n",
      "Episode 1829 reward: 22.1\n",
      "Episode 1839 reward: 22.6\n",
      "Episode 1849 reward: 22.5\n",
      "Episode 1859 reward: 20.7\n",
      "Episode 1869 reward: 23.6\n",
      "Episode 1879 reward: 23.6\n",
      "Episode 1889 reward: 21.7\n",
      "Episode 1899 reward: 22.0\n",
      "Episode 1909 reward: 23.1\n",
      "Episode 1919 reward: 21.7\n",
      "Episode 1929 reward: 19.4\n",
      "Episode 1939 reward: 21.5\n",
      "Episode 1949 reward: 21.6\n",
      "Episode 1959 reward: 23.2\n",
      "Episode 1969 reward: 21.7\n",
      "Episode 1979 reward: 21.2\n",
      "Episode 1989 reward: 24.0\n",
      "Episode 1999 reward: 23.4\n",
      "Saved Model\n",
      "Episode 2009 reward: 21.5\n",
      "Episode 2019 reward: 22.1\n",
      "Episode 2029 reward: 19.6\n",
      "Episode 2039 reward: 20.2\n",
      "Episode 2049 reward: 20.7\n",
      "Episode 2059 reward: 23.8\n",
      "Episode 2069 reward: 24.2\n",
      "Episode 2079 reward: 22.9\n",
      "Episode 2089 reward: 22.3\n",
      "Episode 2099 reward: 21.7\n",
      "Episode 2109 reward: 21.4\n",
      "Episode 2119 reward: 22.1\n",
      "Episode 2129 reward: 21.7\n",
      "Episode 2139 reward: 21.1\n",
      "Episode 2149 reward: 23.1\n",
      "Episode 2159 reward: 24.2\n",
      "Episode 2169 reward: 24.3\n",
      "Episode 2179 reward: 22.8\n",
      "Episode 2189 reward: 22.8\n",
      "Episode 2199 reward: 20.8\n",
      "Episode 2209 reward: 21.0\n",
      "Episode 2219 reward: 23.6\n",
      "Episode 2229 reward: 21.7\n",
      "Episode 2239 reward: 22.5\n",
      "Episode 2249 reward: 21.8\n",
      "Episode 2259 reward: 20.8\n",
      "Episode 2269 reward: 20.9\n",
      "Episode 2279 reward: 22.5\n",
      "Episode 2289 reward: 19.6\n",
      "Episode 2299 reward: 21.9\n",
      "Episode 2309 reward: 21.9\n",
      "Episode 2319 reward: 20.2\n",
      "Episode 2329 reward: 20.1\n",
      "Episode 2339 reward: 24.5\n",
      "Episode 2349 reward: 21.6\n",
      "Episode 2359 reward: 23.5\n",
      "Episode 2369 reward: 21.9\n",
      "Episode 2379 reward: 20.8\n",
      "Episode 2389 reward: 23.4\n",
      "Episode 2399 reward: 25.1\n",
      "Episode 2409 reward: 23.8\n",
      "Episode 2419 reward: 23.5\n",
      "Episode 2429 reward: 22.5\n",
      "Episode 2439 reward: 22.0\n",
      "Episode 2449 reward: 21.8\n",
      "Episode 2459 reward: 22.4\n",
      "Episode 2469 reward: 22.8\n",
      "Episode 2479 reward: 20.3\n",
      "Episode 2489 reward: 20.9\n",
      "Episode 2499 reward: 22.4\n",
      "Episode 2509 reward: 23.7\n",
      "Episode 2519 reward: 23.5\n",
      "Episode 2529 reward: 21.6\n",
      "Episode 2539 reward: 21.6\n",
      "Episode 2549 reward: 22.3\n",
      "Episode 2559 reward: 22.9\n",
      "Episode 2569 reward: 24.3\n",
      "Episode 2579 reward: 22.6\n",
      "Episode 2589 reward: 20.6\n",
      "Episode 2599 reward: 20.6\n",
      "Episode 2609 reward: 21.2\n",
      "Episode 2619 reward: 21.1\n",
      "Episode 2629 reward: 21.7\n",
      "Episode 2639 reward: 21.4\n",
      "Episode 2649 reward: 21.3\n",
      "Episode 2659 reward: 23.0\n",
      "Episode 2669 reward: 19.8\n",
      "Episode 2679 reward: 23.2\n",
      "Episode 2689 reward: 20.3\n",
      "Episode 2699 reward: 21.7\n",
      "Episode 2709 reward: 23.3\n",
      "Episode 2719 reward: 20.7\n",
      "Episode 2729 reward: 20.1\n",
      "Episode 2739 reward: 23.0\n",
      "Episode 2749 reward: 21.3\n",
      "Episode 2759 reward: 21.1\n",
      "Episode 2769 reward: 21.7\n",
      "Episode 2779 reward: 22.2\n",
      "Episode 2789 reward: 23.0\n",
      "Episode 2799 reward: 21.5\n",
      "Episode 2809 reward: 22.9\n",
      "Episode 2819 reward: 24.0\n",
      "Episode 2829 reward: 22.3\n",
      "Episode 2839 reward: 23.5\n",
      "Episode 2849 reward: 22.2\n",
      "Episode 2859 reward: 23.8\n",
      "Episode 2869 reward: 22.1\n",
      "Episode 2879 reward: 25.0\n",
      "Episode 2889 reward: 24.3\n",
      "Episode 2899 reward: 22.0\n",
      "Episode 2909 reward: 20.8\n",
      "Episode 2919 reward: 21.2\n",
      "Episode 2929 reward: 22.4\n",
      "Episode 2939 reward: 21.5\n",
      "Episode 2949 reward: 21.6\n",
      "Episode 2959 reward: 22.3\n",
      "Episode 2969 reward: 21.6\n",
      "Episode 2979 reward: 20.9\n",
      "Episode 2989 reward: 25.9\n",
      "Episode 2999 reward: 19.3\n",
      "Saved Model\n",
      "Episode 3009 reward: 22.1\n",
      "Episode 3019 reward: 19.4\n",
      "Episode 3029 reward: 21.0\n",
      "Episode 3039 reward: 21.7\n",
      "Episode 3049 reward: 23.9\n",
      "Episode 3059 reward: 22.9\n",
      "Episode 3069 reward: 22.1\n",
      "Episode 3079 reward: 22.9\n",
      "Episode 3089 reward: 21.0\n",
      "Episode 3099 reward: 20.7\n",
      "Episode 3109 reward: 22.6\n",
      "Episode 3119 reward: 22.5\n",
      "Episode 3129 reward: 23.4\n",
      "Episode 3139 reward: 20.8\n",
      "Episode 3149 reward: 18.4\n",
      "Episode 3159 reward: 23.1\n",
      "Episode 3169 reward: 22.4\n",
      "Episode 3179 reward: 20.6\n",
      "Episode 3189 reward: 21.6\n",
      "Episode 3199 reward: 21.0\n",
      "Episode 3209 reward: 20.5\n",
      "Episode 3219 reward: 22.4\n",
      "Episode 3229 reward: 22.0\n",
      "Episode 3239 reward: 21.3\n",
      "Episode 3249 reward: 22.6\n",
      "Episode 3259 reward: 22.5\n",
      "Episode 3269 reward: 23.3\n",
      "Episode 3279 reward: 24.6\n",
      "Episode 3289 reward: 20.8\n",
      "Episode 3299 reward: 23.9\n",
      "Episode 3309 reward: 23.8\n",
      "Episode 3319 reward: 21.8\n",
      "Episode 3329 reward: 17.2\n",
      "Episode 3339 reward: 23.3\n",
      "Episode 3349 reward: 23.1\n",
      "Episode 3359 reward: 23.1\n",
      "Episode 3369 reward: 22.2\n",
      "Episode 3379 reward: 21.6\n",
      "Episode 3389 reward: 20.9\n",
      "Episode 3399 reward: 20.4\n",
      "Episode 3409 reward: 20.2\n",
      "Episode 3419 reward: 21.3\n",
      "Episode 3429 reward: 22.8\n",
      "Episode 3439 reward: 24.0\n",
      "Episode 3449 reward: 22.6\n",
      "Episode 3459 reward: 23.6\n",
      "Episode 3469 reward: 20.7\n",
      "Episode 3479 reward: 20.6\n",
      "Episode 3489 reward: 21.4\n",
      "Episode 3499 reward: 19.8\n",
      "Episode 3509 reward: 22.6\n",
      "Episode 3519 reward: 23.4\n",
      "Episode 3529 reward: 22.4\n",
      "Episode 3539 reward: 19.1\n",
      "Episode 3549 reward: 20.5\n",
      "Episode 3559 reward: 22.1\n",
      "Episode 3569 reward: 24.5\n",
      "Episode 3579 reward: 21.5\n",
      "Episode 3589 reward: 23.5\n",
      "Episode 3599 reward: 19.6\n",
      "Episode 3609 reward: 22.4\n",
      "Episode 3619 reward: 23.7\n",
      "Episode 3629 reward: 21.8\n",
      "Episode 3639 reward: 21.0\n",
      "Episode 3649 reward: 22.0\n",
      "Episode 3659 reward: 23.2\n",
      "Episode 3669 reward: 21.8\n",
      "Episode 3679 reward: 21.7\n",
      "Episode 3689 reward: 24.0\n",
      "Episode 3699 reward: 20.7\n",
      "Episode 3709 reward: 22.9\n",
      "Episode 3719 reward: 24.1\n",
      "Episode 3729 reward: 20.1\n",
      "Episode 3739 reward: 20.0\n",
      "Episode 3749 reward: 20.9\n",
      "Episode 3759 reward: 23.2\n",
      "Episode 3769 reward: 20.4\n",
      "Episode 3779 reward: 23.1\n",
      "Episode 3789 reward: 22.9\n",
      "Episode 3799 reward: 21.7\n",
      "Episode 3809 reward: 22.7\n",
      "Episode 3819 reward: 19.0\n",
      "Episode 3829 reward: 20.8\n",
      "Episode 3839 reward: 23.8\n",
      "Episode 3849 reward: 20.8\n",
      "Episode 3859 reward: 21.8\n",
      "Episode 3869 reward: 22.6\n",
      "Episode 3879 reward: 21.1\n",
      "Episode 3889 reward: 22.4\n",
      "Episode 3899 reward: 23.7\n",
      "Episode 3909 reward: 19.8\n",
      "Episode 3919 reward: 21.6\n",
      "Episode 3929 reward: 23.2\n",
      "Episode 3939 reward: 20.8\n",
      "Episode 3949 reward: 22.9\n",
      "Episode 3959 reward: 23.5\n",
      "Episode 3969 reward: 21.9\n",
      "Episode 3979 reward: 23.9\n",
      "Episode 3989 reward: 22.6\n",
      "Episode 3999 reward: 22.1\n",
      "Saved Model\n",
      "Episode 4009 reward: 21.4\n",
      "Episode 4019 reward: 19.3\n",
      "Episode 4029 reward: 20.8\n",
      "Episode 4039 reward: 23.9\n",
      "Episode 4049 reward: 22.6\n",
      "Episode 4059 reward: 23.7\n",
      "Episode 4069 reward: 21.8\n",
      "Episode 4079 reward: 23.0\n",
      "Episode 4089 reward: 25.2\n",
      "Episode 4099 reward: 24.9\n",
      "Episode 4109 reward: 23.9\n",
      "Episode 4119 reward: 19.0\n",
      "Episode 4129 reward: 23.4\n",
      "Episode 4139 reward: 21.8\n",
      "Episode 4149 reward: 20.6\n",
      "Episode 4159 reward: 21.4\n",
      "Episode 4169 reward: 22.5\n",
      "Episode 4179 reward: 18.1\n",
      "Episode 4189 reward: 21.9\n",
      "Episode 4199 reward: 21.5\n",
      "Episode 4209 reward: 21.5\n",
      "Episode 4219 reward: 22.8\n",
      "Episode 4229 reward: 20.3\n",
      "Episode 4239 reward: 23.4\n",
      "Episode 4249 reward: 24.0\n",
      "Episode 4259 reward: 22.2\n",
      "Episode 4269 reward: 22.6\n",
      "Episode 4279 reward: 22.4\n",
      "Episode 4289 reward: 22.6\n",
      "Episode 4299 reward: 22.0\n",
      "Episode 4309 reward: 23.2\n",
      "Episode 4319 reward: 21.7\n",
      "Episode 4329 reward: 22.3\n",
      "Episode 4339 reward: 22.5\n",
      "Episode 4349 reward: 19.2\n",
      "Episode 4359 reward: 23.6\n",
      "Episode 4369 reward: 23.7\n",
      "Episode 4379 reward: 22.9\n",
      "Episode 4389 reward: 18.0\n",
      "Episode 4399 reward: 24.2\n",
      "Episode 4409 reward: 23.8\n",
      "Episode 4419 reward: 22.2\n",
      "Episode 4429 reward: 23.6\n",
      "Episode 4439 reward: 22.9\n",
      "Episode 4449 reward: 21.5\n",
      "Episode 4459 reward: 22.0\n",
      "Episode 4469 reward: 24.3\n",
      "Episode 4479 reward: 21.0\n",
      "Episode 4489 reward: 21.7\n",
      "Episode 4499 reward: 22.3\n",
      "Episode 4509 reward: 23.7\n",
      "Episode 4519 reward: 22.8\n",
      "Episode 4529 reward: 21.6\n",
      "Episode 4539 reward: 18.4\n",
      "Episode 4549 reward: 19.7\n",
      "Episode 4559 reward: 21.3\n",
      "Episode 4569 reward: 23.0\n",
      "Episode 4579 reward: 23.0\n",
      "Episode 4589 reward: 21.1\n",
      "Episode 4599 reward: 22.7\n",
      "Episode 4609 reward: 21.1\n",
      "Episode 4619 reward: 23.1\n",
      "Episode 4629 reward: 25.4\n",
      "Episode 4639 reward: 21.8\n",
      "Episode 4649 reward: 21.1\n",
      "Episode 4659 reward: 22.3\n",
      "Episode 4669 reward: 22.4\n",
      "Episode 4679 reward: 23.5\n",
      "Episode 4689 reward: 23.6\n",
      "Episode 4699 reward: 21.9\n",
      "Episode 4709 reward: 20.8\n",
      "Episode 4719 reward: 22.6\n",
      "Episode 4729 reward: 23.2\n",
      "Episode 4739 reward: 22.7\n",
      "Episode 4749 reward: 23.0\n",
      "Episode 4759 reward: 21.6\n",
      "Episode 4769 reward: 23.6\n",
      "Episode 4779 reward: 24.7\n",
      "Episode 4789 reward: 19.0\n",
      "Episode 4799 reward: 22.9\n",
      "Episode 4809 reward: 24.0\n",
      "Episode 4819 reward: 22.8\n",
      "Episode 4829 reward: 20.8\n",
      "Episode 4839 reward: 22.4\n",
      "Episode 4849 reward: 24.1\n",
      "Episode 4859 reward: 24.0\n",
      "Episode 4869 reward: 23.8\n",
      "Episode 4879 reward: 21.5\n",
      "Episode 4889 reward: 21.9\n",
      "Episode 4899 reward: 23.2\n",
      "Episode 4909 reward: 22.8\n",
      "Episode 4919 reward: 22.8\n",
      "Episode 4929 reward: 24.5\n",
      "Episode 4939 reward: 21.8\n",
      "Episode 4949 reward: 21.7\n",
      "Episode 4959 reward: 22.9\n",
      "Episode 4969 reward: 23.6\n",
      "Episode 4979 reward: 24.2\n",
      "Episode 4989 reward: 23.9\n",
      "Episode 4999 reward: 22.9\n",
      "Mean reward per episode: 19.172\n"
     ]
    }
   ],
   "source": [
    "tf.reset_default_graph()\n",
    "mainQN = Qnetwork(h_size)\n",
    "targetQN = Qnetwork(h_size)\n",
    "\n",
    "init = tf.global_variables_initializer()\n",
    "\n",
    "saver = tf.train.Saver()\n",
    "\n",
    "trainables = tf.trainable_variables()\n",
    "\n",
    "targetOps = updateTargetGraph(trainables,tau)\n",
    "\n",
    "myBuffer = experience_buffer()\n",
    "\n",
    "#Set the rate of random action decrease. \n",
    "e = startE\n",
    "stepDrop = (startE - endE)/annealing_steps\n",
    "\n",
    "#create lists to contain total rewards and steps per episode\n",
    "jList = []\n",
    "rList = []\n",
    "total_steps = 0\n",
    "\n",
    "#Make a path for our model to be saved in.\n",
    "if not os.path.exists(path):\n",
    "    os.makedirs(path)\n",
    "\n",
    "with tf.Session() as sess:\n",
    "    sess.run(init)\n",
    "    if load_model == True:\n",
    "        print('Loading Model...')\n",
    "        ckpt = tf.train.get_checkpoint_state(path)\n",
    "        saver.restore(sess,ckpt.model_checkpoint_path)\n",
    "    for i in range(num_episodes):\n",
    "        episodeBuffer = experience_buffer()\n",
    "        #Reset environment and get first new observation\n",
    "        s = env.reset()\n",
    "        s = processState(s)\n",
    "        d = False\n",
    "        rAll = 0\n",
    "        j = 0\n",
    "        #The Q-Network\n",
    "        while j < max_epLength: #If the agent takes longer than 50 moves to reach either of the blocks, end the trial.\n",
    "            j+=1\n",
    "            #Choose an action by greedily (with e chance of random action) from the Q-network\n",
    "            if np.random.rand(1) < e or total_steps < pre_train_steps:\n",
    "                a = np.random.randint(0,4)\n",
    "            else:\n",
    "                a = sess.run(mainQN.predict,feed_dict={mainQN.scalarInput:[s]})[0]\n",
    "            total_steps += 1\n",
    "            \n",
    "            ################################################################################\n",
    "            # TODO: Save the experience to our episode buffer.                             #\n",
    "            # You will need to do the following:                                           #\n",
    "            # (1) Get new state s1 (resized), reward r and done d from a                   #\n",
    "            # (2) Add experience to episode buffer. Hint: experience includes              #\n",
    "            #     s, a, r, s1 and d.                                                       #\n",
    "            ################################################################################\n",
    "            s1, r, d = env.step(a)\n",
    "            s1 = processState(s1)\n",
    "            buffer = np.array([s, a, r, s1, d])\n",
    "            episodeBuffer.add(np.reshape(buffer, [1, 5]))\n",
    "            ################################################################################\n",
    "            #                                 END OF YOUR CODE                             #\n",
    "            ################################################################################\n",
    "            \n",
    "            if total_steps > pre_train_steps:\n",
    "                if e > endE:\n",
    "                    e -= stepDrop\n",
    "                \n",
    "                if total_steps % (update_freq) == 0:\n",
    "                    \n",
    "                    ################################################################################\n",
    "                    # TODO: Implement Double-DQN                                                   #\n",
    "                    # (1) Get a random batch of experiences via experience_buffer class            #\n",
    "                    #                                                                              #\n",
    "                    # (2) Perform the Double-DQN update to the target Q-values                     #\n",
    "                    #     Hint: Use mainQN and targetQN separately to chose an action and predict  #\n",
    "                    #     the Q-values for that action.                                            #\n",
    "                    #     Then compute targetQ based on Double-DQN equation                        #\n",
    "                    #                                                                              #\n",
    "                    # (3) Update the primary network with our target values                        #\n",
    "                    ################################################################################ \n",
    "                    \n",
    "                    # get a random batch\n",
    "                    batch = myBuffer.sample(batch_size)\n",
    "                    \n",
    "                    # perform the Double-DQN\n",
    "                    mainQN_action = sess.run(mainQN.predict, feed_dict={mainQN.scalarInput: np.vstack(batch[:,3])})\n",
    "                    targetQN_Qvalue = sess.run(targetQN.Qout, feed_dict={targetQN.scalarInput: np.vstack(batch[:, 3])})\n",
    "                                    \n",
    "                    # compute targetQ    \n",
    "                    Q_ = targetQN_Qvalue[range(batch_size), mainQN_action]\n",
    "                    targetQ = batch[:, 2] + y * Q_\n",
    "                    \n",
    "                    # update the primary network\n",
    "                    sess.run(mainQN.updateModel, feed_dict={mainQN.scalarInput: np.vstack(batch[:,0]),mainQN.targetQ: targetQ, mainQN.actions: batch[:,1]})\n",
    "                    \n",
    "                    \n",
    "                    ################################################################################\n",
    "                    #                                 END OF YOUR CODE                             #\n",
    "                    ################################################################################\n",
    "                           \n",
    "                    updateTarget(targetOps,sess) #Update the target network toward the primary network.\n",
    "            rAll += r\n",
    "            s = s1\n",
    "            \n",
    "            if d == True:\n",
    "\n",
    "                break\n",
    "        \n",
    "        myBuffer.add(episodeBuffer.buffer)\n",
    "        jList.append(j)\n",
    "        rList.append(rAll)\n",
    "        #Periodically save the model. \n",
    "        if i % 1000 == 0:\n",
    "            saver.save(sess,path+'/model-'+str(i)+'.ckpt')\n",
    "            print(\"Saved Model\")\n",
    "        if len(rList) % 10 == 0:\n",
    "            print(\"Episode\",i,\"reward:\",np.mean(rList[-10:]))\n",
    "    saver.save(sess,path+'/model-'+str(i)+'.ckpt')\n",
    "print(\"Mean reward per episode: \" + str(sum(rList)/num_episodes))"
   ]
  },
  {
   "cell_type": "markdown",
   "metadata": {
    "deletable": true,
    "editable": true
   },
   "source": [
    "It takes about 40 minutes to train 5000 episodes in Lab 4 machines. Mean reward per episode (50 steps) should be around 20"
   ]
  },
  {
   "cell_type": "markdown",
   "metadata": {
    "deletable": true,
    "editable": true
   },
   "source": [
    "### Checking network learning"
   ]
  },
  {
   "cell_type": "markdown",
   "metadata": {
    "deletable": true,
    "editable": true
   },
   "source": [
    "Mean reward over time"
   ]
  },
  {
   "cell_type": "code",
   "execution_count": 17,
   "metadata": {
    "collapsed": false,
    "deletable": true,
    "editable": true
   },
   "outputs": [
    {
     "data": {
      "text/plain": [
       "[<matplotlib.lines.Line2D at 0x168bcf0f0>]"
      ]
     },
     "execution_count": 17,
     "metadata": {},
     "output_type": "execute_result"
    },
    {
     "data": {
      "image/png": "[encoded data removed]",
      "text/plain": [
       "<matplotlib.figure.Figure at 0x11eb6e898>"
      ]
     },
     "metadata": {},
     "output_type": "display_data"
    }
   ],
   "source": [
    "rMat = np.resize(np.array(rList),[len(rList)//100,100])\n",
    "rMean = np.average(rMat,1)\n",
    "plt.plot(rMean)"
   ]
  },
  {
   "cell_type": "markdown",
   "metadata": {
    "deletable": true,
    "editable": true
   },
   "source": [
    "## Inline Question:\n",
    "Try a basic DQN without Dueling DQN and Double DQN (i.e. only one single network, no decomposition of the Q-function). You don't need to provide detailed source, just some quantitative comparison is OK (e.g. by comparing the mean reward). **\n",
    "\n",
    "**Your answer:**Basic DQN performed almost the same before certain episodes, compared with Dueling DQN and Double DQN. However, after certain episodes, the mean reward returned by the basic DQN was lower than the Dueling DQN and Double DQN. Moveover, combining Dueling DQN with Double DQN, the basic one performed much worse, with around 80% of the mean reward returned by Dueling, and Double DQN"
   ]
  },
  {
   "cell_type": "code",
   "execution_count": null,
   "metadata": {
    "collapsed": true,
    "deletable": true,
    "editable": true
   },
   "outputs": [],
   "source": []
  }
 ],
 "metadata": {
  "anaconda-cloud": {},
  "kernelspec": {
   "display_name": "Python 3",
   "language": "python",
   "name": "python3"
  },
  "language_info": {
   "codemirror_mode": {
    "name": "ipython",
    "version": 3
   },
   "file_extension": ".py",
   "mimetype": "text/x-python",
   "name": "python",
   "nbconvert_exporter": "python",
   "pygments_lexer": "ipython3",
   "version": "3.5.3"
  }
 },
 "nbformat": 4,
 "nbformat_minor": 1
}
