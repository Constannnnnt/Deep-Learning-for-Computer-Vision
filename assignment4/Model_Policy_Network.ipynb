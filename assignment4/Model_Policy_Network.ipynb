{
 "cells": [
  {
   "cell_type": "markdown",
   "metadata": {
    "deletable": true,
    "editable": true
   },
   "source": [
    "# Model-Based RL\n",
    "In this exercise you will implement a policy and model network which work in tandem to solve the CartPole reinforcement learning problem."
   ]
  },
  {
   "cell_type": "markdown",
   "metadata": {
    "deletable": true,
    "editable": true
   },
   "source": [
    "What is a model and why would we want to use one? In this case, a model is going to be a neural network that attempts to learn the dynamics of the real environment. For example, in the CartPole we would like a model to be able to predict the next position of the Cart given the previous position and an action. By learning an accurate model, we can train our agent using the model rather than requiring to use the real environment every time. While this may seem less useful when the real environment is itself a simulation, like in our CartPole task, it can have huge advantages when attempting to learn policies for acting in the physical world."
   ]
  },
  {
   "cell_type": "markdown",
   "metadata": {
    "deletable": true,
    "editable": true
   },
   "source": [
    "How are we going to accomplish this in Tensorflow? We are going to be using a neural network that will learn the transition dynamics between a previous observation and action, and the expected new observation, reward, and done state. Our training procedure will involve switching between training our model using the real environment, and training our agent’s policy using the model environment. By using this approach we will be able to learn a policy that allows our agent to solve the CartPole task without actually ever training the policy on the real environment! "
   ]
  },
  {
   "cell_type": "markdown",
   "metadata": {
    "deletable": true,
    "editable": true
   },
   "source": [
    "### Loading libraries and starting CartPole environment"
   ]
  },
  {
   "cell_type": "code",
   "execution_count": 1,
   "metadata": {
    "collapsed": true,
    "deletable": true,
    "editable": true
   },
   "outputs": [],
   "source": [
    "from __future__ import print_function\n",
    "import numpy as np\n",
    "try:\n",
    "    import cPickle as pickle\n",
    "except:\n",
    "    import pickle\n",
    "import tensorflow as tf\n",
    "%matplotlib inline\n",
    "import matplotlib.pyplot as plt\n",
    "import math"
   ]
  },
  {
   "cell_type": "code",
   "execution_count": 2,
   "metadata": {
    "collapsed": true,
    "deletable": true,
    "editable": true
   },
   "outputs": [],
   "source": [
    "import sys\n",
    "if sys.version_info.major > 2:\n",
    "    xrange = range\n",
    "del sys"
   ]
  },
  {
   "cell_type": "code",
   "execution_count": 3,
   "metadata": {
    "collapsed": true,
    "deletable": true,
    "editable": true
   },
   "outputs": [],
   "source": [
    "import gym\n",
    "env = gym.make('CartPole-v0')"
   ]
  },
  {
   "cell_type": "markdown",
   "metadata": {
    "deletable": true,
    "editable": true
   },
   "source": [
    "### Setting Hyper-parameters"
   ]
  },
  {
   "cell_type": "code",
   "execution_count": 4,
   "metadata": {
    "collapsed": true,
    "deletable": true,
    "editable": true
   },
   "outputs": [],
   "source": [
    "# hyperparameters\n",
    "H = 8 # number of hidden layer neurons\n",
    "learning_rate = 1e-2\n",
    "gamma = 0.99 # discount factor for reward\n",
    "decay_rate = 0.99 # decay factor for RMSProp leaky sum of grad^2\n",
    "resume = False # resume from previous checkpoint?\n",
    "\n",
    "model_bs = 3 # Batch size when learning from model\n",
    "real_bs = 3 # Batch size when learning from real environment\n",
    "\n",
    "# model initialization\n",
    "D = 4 # input dimensionality"
   ]
  },
  {
   "cell_type": "markdown",
   "metadata": {
    "deletable": true,
    "editable": true
   },
   "source": [
    "### Policy Network"
   ]
  },
  {
   "cell_type": "code",
   "execution_count": 5,
   "metadata": {
    "collapsed": true,
    "deletable": true,
    "editable": true
   },
   "outputs": [],
   "source": [
    "tf.reset_default_graph()\n",
    "observations = tf.placeholder(tf.float32, [None,4] , name=\"input_x\")\n",
    "W1 = tf.get_variable(\"W1\", shape=[4, H],\n",
    "           initializer=tf.contrib.layers.xavier_initializer())\n",
    "layer1 = tf.nn.relu(tf.matmul(observations,W1))\n",
    "W2 = tf.get_variable(\"W2\", shape=[H, 1],\n",
    "           initializer=tf.contrib.layers.xavier_initializer())\n",
    "score = tf.matmul(layer1,W2)\n",
    "probability = tf.nn.sigmoid(score)\n",
    "\n",
    "tvars = tf.trainable_variables()\n",
    "input_y = tf.placeholder(tf.float32,[None,1], name=\"input_y\")\n",
    "advantages = tf.placeholder(tf.float32,name=\"reward_signal\")\n",
    "adam = tf.train.AdamOptimizer(learning_rate=learning_rate)\n",
    "W1Grad = tf.placeholder(tf.float32,name=\"batch_grad1\")\n",
    "W2Grad = tf.placeholder(tf.float32,name=\"batch_grad2\")\n",
    "batchGrad = [W1Grad,W2Grad]\n",
    "\n",
    "################################################################################\n",
    "# TODO: Implement the loss function.                                           #\n",
    "# This sends the weights in the direction of making actions that gave good     #\n",
    "# advantage (reward overtime) more likely, and actions that didn't less likely.#\n",
    "################################################################################\n",
    "loss = -tf.reduce_mean((input_y*tf.log(probability) + (1 - input_y) * tf.log(1 - probability)) * advantages)\n",
    "################################################################################\n",
    "#                                 END OF YOUR CODE                             #\n",
    "################################################################################\n",
    "\n",
    "newGrads = tf.gradients(loss,tvars)\n",
    "updateGrads = adam.apply_gradients(zip(batchGrad,tvars))"
   ]
  },
  {
   "cell_type": "markdown",
   "metadata": {
    "deletable": true,
    "editable": true
   },
   "source": [
    "### Model Network\n",
    "Here we implement a multi-layer neural network that predicts the next observation, reward, and done state from a current state and action."
   ]
  },
  {
   "cell_type": "code",
   "execution_count": 6,
   "metadata": {
    "collapsed": true,
    "deletable": true,
    "editable": true
   },
   "outputs": [],
   "source": [
    "mH = 256 # model layer size\n",
    "\n",
    "input_data = tf.placeholder(tf.float32, [None, 5])\n",
    "with tf.variable_scope('rnnlm'):\n",
    "    softmax_w = tf.get_variable(\"softmax_w\", [mH, 50])\n",
    "    softmax_b = tf.get_variable(\"softmax_b\", [50])\n",
    "\n",
    "previous_state = tf.placeholder(tf.float32, [None,5] , name=\"previous_state\")\n",
    "W1M = tf.get_variable(\"W1M\", shape=[5, mH],\n",
    "           initializer=tf.contrib.layers.xavier_initializer())\n",
    "B1M = tf.Variable(tf.zeros([mH]),name=\"B1M\")\n",
    "layer1M = tf.nn.relu(tf.matmul(previous_state,W1M) + B1M)\n",
    "W2M = tf.get_variable(\"W2M\", shape=[mH, mH],\n",
    "           initializer=tf.contrib.layers.xavier_initializer())\n",
    "B2M = tf.Variable(tf.zeros([mH]),name=\"B2M\")\n",
    "layer2M = tf.nn.relu(tf.matmul(layer1M,W2M) + B2M)\n",
    "wO = tf.get_variable(\"wO\", shape=[mH, 4],\n",
    "           initializer=tf.contrib.layers.xavier_initializer())\n",
    "wR = tf.get_variable(\"wR\", shape=[mH, 1],\n",
    "           initializer=tf.contrib.layers.xavier_initializer())\n",
    "wD = tf.get_variable(\"wD\", shape=[mH, 1],\n",
    "           initializer=tf.contrib.layers.xavier_initializer())\n",
    "\n",
    "bO = tf.Variable(tf.zeros([4]),name=\"bO\")\n",
    "bR = tf.Variable(tf.zeros([1]),name=\"bR\")\n",
    "bD = tf.Variable(tf.ones([1]),name=\"bD\")\n",
    "\n",
    "\n",
    "predicted_observation = tf.matmul(layer2M,wO,name=\"predicted_observation\") + bO\n",
    "predicted_reward = tf.matmul(layer2M,wR,name=\"predicted_reward\") + bR\n",
    "predicted_done = tf.sigmoid(tf.matmul(layer2M,wD,name=\"predicted_done\") + bD)\n",
    "\n",
    "true_observation = tf.placeholder(tf.float32,[None,4],name=\"true_observation\")\n",
    "true_reward = tf.placeholder(tf.float32,[None,1],name=\"true_reward\")\n",
    "true_done = tf.placeholder(tf.float32,[None,1],name=\"true_done\")\n",
    "\n",
    "\n",
    "predicted_state = tf.concat([predicted_observation,predicted_reward,predicted_done],1)\n",
    "\n",
    "observation_loss = tf.square(true_observation - predicted_observation)\n",
    "\n",
    "reward_loss = tf.square(true_reward - predicted_reward)\n",
    "\n",
    "done_loss = tf.multiply(predicted_done, true_done) + tf.multiply(1-predicted_done, 1-true_done)\n",
    "done_loss = -tf.log(done_loss)\n",
    "\n",
    "model_loss = tf.reduce_mean(observation_loss + done_loss + reward_loss)\n",
    "\n",
    "modelAdam = tf.train.AdamOptimizer(learning_rate=learning_rate)\n",
    "updateModel = modelAdam.minimize(model_loss)"
   ]
  },
  {
   "cell_type": "markdown",
   "metadata": {
    "deletable": true,
    "editable": true
   },
   "source": [
    "### Helper-functions"
   ]
  },
  {
   "cell_type": "code",
   "execution_count": 22,
   "metadata": {
    "collapsed": true,
    "deletable": true,
    "editable": true
   },
   "outputs": [],
   "source": [
    "def resetGradBuffer(gradBuffer):\n",
    "    for ix,grad in enumerate(gradBuffer):\n",
    "        gradBuffer[ix] = grad * 0\n",
    "    return gradBuffer\n",
    "\n",
    "def discount_rewards(r):\n",
    "    ################################################################################\n",
    "    # TODO: Implement the discounted rewards function                              #\n",
    "    # Return discounted rewards weighed by gamma. Each reward will be replaced     #\n",
    "    # with a weight reward that involves itself and all the other rewards occuring #\n",
    "    # after it. The later the reward after it happens, the less effect it has on   #\n",
    "    # the current rewards's discounted reward                                      #\n",
    "    # Hint: [r0, r1, r2, ..., r_N] will look someting like:                        #\n",
    "    #       [(r0 + r1*gamma^1 + ... r_N*gamma^N), (r1 + r2*gamma^1 + ...), ...]    #\n",
    "    ################################################################################\n",
    "    discount_r = np.zeros_like(r)\n",
    "    tmp = 0\n",
    "    for t in reversed(range(len(r))):\n",
    "        tmp = tmp * gamma + r[t]\n",
    "        discount_r[t] = tmp\n",
    "    return discount_r\n",
    "    ################################################################################\n",
    "    #                                 END OF YOUR CODE                             #\n",
    "    ################################################################################\n",
    "\n",
    "# This function uses our model to produce a new state when given a previous state and action\n",
    "def stepModel(sess, xs, action):\n",
    "    toFeed = np.reshape(np.hstack([xs[-1][0],np.array(action)]),[1,5])\n",
    "    myPredict = sess.run([predicted_state],feed_dict={previous_state: toFeed})\n",
    "    reward = myPredict[0][:,4]\n",
    "    observation = myPredict[0][:,0:4]\n",
    "    observation[:,0] = np.clip(observation[:,0],-2.4,2.4)\n",
    "    observation[:,2] = np.clip(observation[:,2],-0.4,0.4)\n",
    "    doneP = np.clip(myPredict[0][:,5],0,1)\n",
    "    if doneP > 0.1 or len(xs)>= 300:\n",
    "        done = True\n",
    "    else:\n",
    "        done = False\n",
    "    return observation, reward, done"
   ]
  },
  {
   "cell_type": "markdown",
   "metadata": {
    "deletable": true,
    "editable": true
   },
   "source": [
    "## Training the Policy and Model"
   ]
  },
  {
   "cell_type": "code",
   "execution_count": 23,
   "metadata": {
    "collapsed": false,
    "deletable": true,
    "editable": true,
    "scrolled": true
   },
   "outputs": [
    {
     "name": "stdout",
     "output_type": "stream",
     "text": [
      "World Perf: Episode 4.000000. Reward 19.666667. action: 0.000000. mean reward 19.666667.\n",
      "World Perf: Episode 7.000000. Reward 13.333333. action: 1.000000. mean reward 19.603333.\n",
      "World Perf: Episode 10.000000. Reward 21.333333. action: 1.000000. mean reward 19.620633.\n",
      "World Perf: Episode 13.000000. Reward 24.333333. action: 1.000000. mean reward 19.667760.\n",
      "World Perf: Episode 16.000000. Reward 13.333333. action: 0.000000. mean reward 19.604416.\n",
      "World Perf: Episode 19.000000. Reward 18.000000. action: 0.000000. mean reward 19.588372.\n",
      "World Perf: Episode 22.000000. Reward 15.000000. action: 0.000000. mean reward 19.542488.\n",
      "World Perf: Episode 25.000000. Reward 15.000000. action: 1.000000. mean reward 19.497063.\n",
      "World Perf: Episode 28.000000. Reward 25.333333. action: 0.000000. mean reward 19.555426.\n",
      "World Perf: Episode 31.000000. Reward 18.666667. action: 0.000000. mean reward 19.546538.\n",
      "World Perf: Episode 34.000000. Reward 25.666667. action: 1.000000. mean reward 19.607740.\n",
      "World Perf: Episode 37.000000. Reward 18.666667. action: 0.000000. mean reward 19.598329.\n",
      "World Perf: Episode 40.000000. Reward 13.666667. action: 0.000000. mean reward 19.539012.\n",
      "World Perf: Episode 43.000000. Reward 15.666667. action: 1.000000. mean reward 19.500289.\n",
      "World Perf: Episode 46.000000. Reward 15.666667. action: 0.000000. mean reward 19.461953.\n",
      "World Perf: Episode 49.000000. Reward 27.666667. action: 1.000000. mean reward 19.544000.\n",
      "World Perf: Episode 52.000000. Reward 16.000000. action: 1.000000. mean reward 19.508560.\n",
      "World Perf: Episode 55.000000. Reward 14.333333. action: 0.000000. mean reward 19.456808.\n",
      "World Perf: Episode 58.000000. Reward 16.000000. action: 0.000000. mean reward 19.422239.\n",
      "World Perf: Episode 61.000000. Reward 13.333333. action: 0.000000. mean reward 19.361350.\n",
      "World Perf: Episode 64.000000. Reward 19.666667. action: 1.000000. mean reward 19.364404.\n",
      "World Perf: Episode 67.000000. Reward 17.333333. action: 1.000000. mean reward 19.344093.\n",
      "World Perf: Episode 70.000000. Reward 15.000000. action: 0.000000. mean reward 19.300652.\n",
      "World Perf: Episode 73.000000. Reward 16.333333. action: 1.000000. mean reward 19.270979.\n",
      "World Perf: Episode 76.000000. Reward 15.333333. action: 0.000000. mean reward 19.231602.\n",
      "World Perf: Episode 79.000000. Reward 12.333333. action: 0.000000. mean reward 19.162620.\n",
      "World Perf: Episode 82.000000. Reward 16.666667. action: 1.000000. mean reward 19.137660.\n",
      "World Perf: Episode 85.000000. Reward 12.333333. action: 0.000000. mean reward 19.069617.\n",
      "World Perf: Episode 88.000000. Reward 12.333333. action: 0.000000. mean reward 19.002254.\n",
      "World Perf: Episode 91.000000. Reward 12.333333. action: 1.000000. mean reward 18.935565.\n",
      "World Perf: Episode 94.000000. Reward 25.000000. action: 1.000000. mean reward 18.996209.\n",
      "World Perf: Episode 97.000000. Reward 20.000000. action: 0.000000. mean reward 19.006247.\n",
      "World Perf: Episode 100.000000. Reward 15.666667. action: 1.000000. mean reward 18.972851.\n",
      "World Perf: Episode 103.000000. Reward 19.333333. action: 1.000000. mean reward 18.976456.\n",
      "World Perf: Episode 106.000000. Reward 23.333333. action: 0.000000. mean reward 19.357206.\n",
      "World Perf: Episode 109.000000. Reward 15.333333. action: 1.000000. mean reward 21.272545.\n",
      "World Perf: Episode 112.000000. Reward 11.333333. action: 0.000000. mean reward 21.019213.\n",
      "World Perf: Episode 115.000000. Reward 14.333333. action: 0.000000. mean reward 20.760489.\n",
      "World Perf: Episode 118.000000. Reward 24.333333. action: 0.000000. mean reward 20.599272.\n",
      "World Perf: Episode 121.000000. Reward 13.333333. action: 1.000000. mean reward 20.337767.\n",
      "World Perf: Episode 124.000000. Reward 14.333333. action: 1.000000. mean reward 20.083391.\n",
      "World Perf: Episode 127.000000. Reward 12.333333. action: 1.000000. mean reward 19.821274.\n",
      "World Perf: Episode 130.000000. Reward 13.666667. action: 0.000000. mean reward 19.579306.\n",
      "World Perf: Episode 133.000000. Reward 15.666667. action: 1.000000. mean reward 19.355433.\n",
      "World Perf: Episode 136.000000. Reward 13.333333. action: 0.000000. mean reward 19.122465.\n",
      "World Perf: Episode 139.000000. Reward 13.333333. action: 1.000000. mean reward 18.884035.\n",
      "World Perf: Episode 142.000000. Reward 18.333333. action: 1.000000. mean reward 18.705418.\n",
      "World Perf: Episode 145.000000. Reward 12.000000. action: 0.000000. mean reward 18.476347.\n",
      "World Perf: Episode 148.000000. Reward 13.666667. action: 1.000000. mean reward 18.260405.\n",
      "World Perf: Episode 151.000000. Reward 16.666667. action: 1.000000. mean reward 18.076696.\n",
      "World Perf: Episode 154.000000. Reward 10.000000. action: 0.000000. mean reward 17.829638.\n",
      "World Perf: Episode 157.000000. Reward 9.666667. action: 0.000000. mean reward 17.584206.\n",
      "World Perf: Episode 160.000000. Reward 11.000000. action: 1.000000. mean reward 17.361435.\n",
      "World Perf: Episode 163.000000. Reward 12.333333. action: 0.000000. mean reward 17.158672.\n",
      "World Perf: Episode 166.000000. Reward 16.333333. action: 1.000000. mean reward 17.001251.\n",
      "World Perf: Episode 169.000000. Reward 14.333333. action: 0.000000. mean reward 16.825287.\n",
      "World Perf: Episode 172.000000. Reward 10.666667. action: 0.000000. mean reward 16.613630.\n",
      "World Perf: Episode 175.000000. Reward 16.666667. action: 1.000000. mean reward 16.462788.\n",
      "World Perf: Episode 178.000000. Reward 13.000000. action: 0.000000. mean reward 16.277510.\n",
      "World Perf: Episode 181.000000. Reward 20.000000. action: 1.000000. mean reward 16.169369.\n",
      "World Perf: Episode 184.000000. Reward 13.000000. action: 1.000000. mean reward 15.989799.\n",
      "World Perf: Episode 187.000000. Reward 10.333333. action: 1.000000. mean reward 15.802776.\n",
      "World Perf: Episode 190.000000. Reward 9.666667. action: 0.000000. mean reward 15.596259.\n",
      "World Perf: Episode 193.000000. Reward 12.000000. action: 1.000000. mean reward 15.424455.\n",
      "World Perf: Episode 196.000000. Reward 10.333333. action: 1.000000. mean reward 15.250852.\n",
      "World Perf: Episode 199.000000. Reward 9.666667. action: 0.000000. mean reward 15.055799.\n",
      "World Perf: Episode 202.000000. Reward 10.666667. action: 1.000000. mean reward 14.871807.\n",
      "World Perf: Episode 205.000000. Reward 10.333333. action: 1.000000. mean reward 14.687920.\n",
      "World Perf: Episode 208.000000. Reward 8.666667. action: 1.000000. mean reward 14.540816.\n",
      "World Perf: Episode 211.000000. Reward 9.333333. action: 1.000000. mean reward 14.356889.\n",
      "World Perf: Episode 214.000000. Reward 12.333333. action: 0.000000. mean reward 14.208054.\n",
      "World Perf: Episode 217.000000. Reward 11.333333. action: 1.000000. mean reward 14.047284.\n",
      "World Perf: Episode 220.000000. Reward 10.000000. action: 1.000000. mean reward 13.878765.\n",
      "World Perf: Episode 223.000000. Reward 10.000000. action: 0.000000. mean reward 13.727314.\n",
      "World Perf: Episode 226.000000. Reward 11.000000. action: 1.000000. mean reward 13.581086.\n",
      "World Perf: Episode 229.000000. Reward 10.333333. action: 1.000000. mean reward 13.426543.\n",
      "World Perf: Episode 232.000000. Reward 9.000000. action: 1.000000. mean reward 13.266316.\n",
      "World Perf: Episode 235.000000. Reward 10.000000. action: 0.000000. mean reward 13.119380.\n",
      "World Perf: Episode 238.000000. Reward 11.666667. action: 1.000000. mean reward 12.993085.\n",
      "World Perf: Episode 241.000000. Reward 10.333333. action: 1.000000. mean reward 15.077651.\n",
      "World Perf: Episode 244.000000. Reward 12.000000. action: 1.000000. mean reward 14.912873.\n",
      "World Perf: Episode 247.000000. Reward 9.666667. action: 0.000000. mean reward 14.737338.\n",
      "World Perf: Episode 250.000000. Reward 9.666667. action: 1.000000. mean reward 14.569263.\n",
      "World Perf: Episode 253.000000. Reward 9.333333. action: 0.000000. mean reward 14.390164.\n",
      "World Perf: Episode 256.000000. Reward 10.000000. action: 0.000000. mean reward 14.224156.\n",
      "World Perf: Episode 259.000000. Reward 9.000000. action: 1.000000. mean reward 14.049228.\n",
      "World Perf: Episode 262.000000. Reward 8.666667. action: 0.000000. mean reward 13.870980.\n",
      "World Perf: Episode 265.000000. Reward 12.666667. action: 1.000000. mean reward 13.735260.\n",
      "World Perf: Episode 268.000000. Reward 9.333333. action: 0.000000. mean reward 13.574650.\n",
      "World Perf: Episode 271.000000. Reward 9.333333. action: 0.000000. mean reward 13.424209.\n",
      "World Perf: Episode 274.000000. Reward 9.000000. action: 0.000000. mean reward 13.261317.\n",
      "World Perf: Episode 277.000000. Reward 9.666667. action: 1.000000. mean reward 13.117719.\n",
      "World Perf: Episode 280.000000. Reward 8.666667. action: 1.000000. mean reward 12.960075.\n",
      "282\n"
     ]
    }
   ],
   "source": [
    "xs,drs,ys,ds = [],[],[],[]\n",
    "running_reward = None\n",
    "reward_sum = 0\n",
    "episode_number = 1\n",
    "real_episodes = 1\n",
    "init = tf.global_variables_initializer()\n",
    "batch_size = real_bs\n",
    "\n",
    "drawFromModel = False # When set to True, will use model for observations\n",
    "trainTheModel = True # Whether to train the model\n",
    "trainThePolicy = False # Whether to train the policy\n",
    "switch_point = 1\n",
    "\n",
    "# Launch the graph\n",
    "with tf.Session() as sess:\n",
    "    rendering = False\n",
    "    sess.run(init)\n",
    "    observation = env.reset()\n",
    "    x = observation\n",
    "    gradBuffer = sess.run(tvars)\n",
    "    gradBuffer = resetGradBuffer(gradBuffer)\n",
    "    \n",
    "    while episode_number <= 5000:\n",
    "        # Start displaying environment once performance is acceptably high.\n",
    "        if (reward_sum/batch_size > 150 and drawFromModel == False) or rendering == True : \n",
    "            env.render()\n",
    "            rendering = True\n",
    "            \n",
    "        x = np.reshape(observation,[1,4])\n",
    "\n",
    "        tfprob = sess.run(probability,feed_dict={observations: x})\n",
    "        action = 1 if np.random.uniform() < tfprob else 0\n",
    "\n",
    "        # record various intermediates (needed later for backprop)\n",
    "        xs.append(x) \n",
    "        y = 1 if action == 0 else 0 \n",
    "        ys.append(y)\n",
    "        \n",
    "        # step the  model or real environment and get new measurements\n",
    "        if drawFromModel == False:\n",
    "            observation, reward, done, info = env.step(action)\n",
    "        else:\n",
    "            observation, reward, done = stepModel(sess,xs,action)\n",
    "                \n",
    "        reward_sum += reward\n",
    "        \n",
    "        ds.append(done*1)\n",
    "        drs.append(reward) # record reward (has to be done after we call step() to get reward for previous action)\n",
    "\n",
    "        if done: \n",
    "            \n",
    "            if drawFromModel == False: \n",
    "                real_episodes += 1\n",
    "            episode_number += 1\n",
    "\n",
    "            # stack together all inputs, hidden states, action gradients, and rewards for this episode\n",
    "            epx = np.vstack(xs)\n",
    "            epy = np.vstack(ys)\n",
    "            epr = np.vstack(drs)\n",
    "            epd = np.vstack(ds)\n",
    "            xs,drs,ys,ds = [],[],[],[] # reset array memory\n",
    "            \n",
    "            if trainTheModel == True:\n",
    "                \n",
    "                ################################################################################\n",
    "                # TODO: Run the model network and compute predicted_state                      #\n",
    "                # Output: 'pState'                                                             #\n",
    "                ################################################################################\n",
    "                \n",
    "                actions = np.array(epy[:-1])\n",
    "                prev_states = np.hstack([epx[:-1, :], actions])\n",
    "                next_states = epx[1:, :]\n",
    "                rewards = np.array(epr[1:, :])\n",
    "                dones = np.array(epd[1:, :])\n",
    "                state_nextsAll = np.hstack([next_states, rewards, dones])\n",
    "                \n",
    "                loss, pState, info = sess.run([model_loss, predicted_state, updateModel], feed_dict=\n",
    "                                             {previous_state: prev_states, true_observation: next_states,\n",
    "                                             true_reward: rewards, true_done: dones})\n",
    "                \n",
    "                ################################################################################\n",
    "                #                                 END OF YOUR CODE                             #\n",
    "                ################################################################################\n",
    "                \n",
    "\n",
    "            if trainThePolicy == True:\n",
    "                \n",
    "                ################################################################################\n",
    "                # TODO: Run the policy network and compute newGrads                            #\n",
    "                # Output: 'tGrad'                                                              #\n",
    "                ################################################################################\n",
    "                discounted_epr = discount_rewards(epr).astype('float32')\n",
    "                discounted_epr -= np.mean(discounted_epr)\n",
    "                discounted_epr /= np.std(discounted_epr)\n",
    "                tGrad = sess.run(newGrads, feed_dict={observations: epx, input_y: epy, advantages: discounted_epr})\n",
    "                ################################################################################\n",
    "                #                                 END OF YOUR CODE                             #\n",
    "                ################################################################################\n",
    "                \n",
    "                # If gradients becom too large, end training process\n",
    "                if np.sum(tGrad[0] == tGrad[0]) == 0:\n",
    "                    break\n",
    "                for ix,grad in enumerate(tGrad):\n",
    "                    gradBuffer[ix] += grad\n",
    "                \n",
    "                \n",
    "            if switch_point + batch_size == episode_number: \n",
    "                switch_point = episode_number\n",
    "                if trainThePolicy == True:\n",
    "                    \n",
    "                    ################################################################################\n",
    "                    # TODO:                                                                        #\n",
    "                    # (1) Run the policy network and update gradients                              #\n",
    "                    # (2) Reset gradBuffer to 0                                                    #\n",
    "                    ################################################################################\n",
    "                    _ = sess.run(updateGrads, feed_dict={W1Grad: gradBuffer[0], W2Grad: gradBuffer[1]})\n",
    "                    for ix,grad in enumerate(tGrad):\n",
    "                        gradBuffer[ix] = grad * 0\n",
    "                    ################################################################################\n",
    "                    #                                 END OF YOUR CODE                             #\n",
    "                    ################################################################################\n",
    "\n",
    "                running_reward = reward_sum if running_reward is None else running_reward * 0.99 + reward_sum * 0.01\n",
    "                if drawFromModel == False:\n",
    "                    print('World Perf: Episode %f. Reward %f. action: %f. mean reward %f.' % (real_episodes,reward_sum/real_bs,action, running_reward/real_bs))\n",
    "                    if reward_sum/batch_size > 200:\n",
    "                        break\n",
    "                reward_sum = 0\n",
    "\n",
    "                # Once the model has been trained on 100 episodes\n",
    "                if episode_number > 100:\n",
    "                    \n",
    "                    ################################################################################\n",
    "                    # TODO: Alternating between training the policy from the model and training    #\n",
    "                    # the model from the real environment.                                         #\n",
    "                    ################################################################################\n",
    "                    drawFromModel = not drawFromModel\n",
    "                    trainThePolicy = not drawFromModel\n",
    "                    ################################################################################\n",
    "                    #                                 END OF YOUR CODE                             #\n",
    "                    ################################################################################\n",
    "            \n",
    "            if drawFromModel == True:\n",
    "                observation = np.random.uniform(-0.1,0.1,[4]) # Generate reasonable starting point\n",
    "                batch_size = model_bs\n",
    "            else:\n",
    "                observation = env.reset()\n",
    "                batch_size = real_bs\n",
    "                \n",
    "print(real_episodes)"
   ]
  },
  {
   "cell_type": "markdown",
   "metadata": {
    "deletable": true,
    "editable": true
   },
   "source": [
    "### Checking model representation\n",
    "Here we can examine how well the model is able to approximate the true environment after training. The green line indicates the real environment, and the blue indicates model predictions."
   ]
  },
  {
   "cell_type": "code",
   "execution_count": 24,
   "metadata": {
    "collapsed": false,
    "deletable": true,
    "editable": true
   },
   "outputs": [
    {
     "data": {
      "image/png": "[encoded data removed]",
      "text/plain": [
       "<matplotlib.figure.Figure at 0x11691cb00>"
      ]
     },
     "metadata": {},
     "output_type": "display_data"
    }
   ],
   "source": [
    "plt.figure(figsize=(8, 12))\n",
    "for i in range(6):\n",
    "    plt.subplot(6, 2, 2*i + 1)\n",
    "    plt.plot(pState[:,i])\n",
    "    plt.subplot(6,2,2*i+1)\n",
    "    plt.plot(state_nextsAll[:,i])\n",
    "plt.tight_layout()"
   ]
  },
  {
   "cell_type": "code",
   "execution_count": null,
   "metadata": {
    "collapsed": true,
    "deletable": true,
    "editable": true
   },
   "outputs": [],
   "source": []
  }
 ],
 "metadata": {
  "kernelspec": {
   "display_name": "Python 3",
   "language": "python",
   "name": "python3"
  },
  "language_info": {
   "codemirror_mode": {
    "name": "ipython",
    "version": 3
   },
   "file_extension": ".py",
   "mimetype": "text/x-python",
   "name": "python",
   "nbconvert_exporter": "python",
   "pygments_lexer": "ipython3",
   "version": "3.5.3"
  }
 },
 "nbformat": 4,
 "nbformat_minor": 1
}
